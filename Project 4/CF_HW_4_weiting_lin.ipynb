{
 "cells": [
  {
   "cell_type": "markdown",
   "metadata": {},
   "source": [
    "## CSCI 365/765 HW 4"
   ]
  },
  {
   "cell_type": "markdown",
   "metadata": {},
   "source": [
    "## Due Date: 5/17 before mid-night"
   ]
  },
  {
   "cell_type": "markdown",
   "metadata": {},
   "source": [
    "### Instructor: Alex Pang, Spring 2021\n",
    "### Student Name:"
   ]
  },
  {
   "cell_type": "code",
   "execution_count": 1,
   "metadata": {},
   "outputs": [],
   "source": [
    "import pandas as pd\n",
    "import numpy as np\n",
    "import seaborn as sns\n",
    "from datetime import date"
   ]
  },
  {
   "cell_type": "markdown",
   "metadata": {},
   "source": [
    "### Discounted CashFlow Model"
   ]
  },
  {
   "cell_type": "markdown",
   "metadata": {},
   "source": [
    "### In this homework, we will implement a Discounted CashFlow Model similar to what was shown in class, except we will be pulling data using Yahoo Financial library. We will also use annual data instead of quarterly"
   ]
  },
  {
   "cell_type": "code",
   "execution_count": 2,
   "metadata": {},
   "outputs": [],
   "source": [
    "#from CF_HW_4_first_last import *\n",
    "import CF_HW_4_weiting_lin\n",
    "from CF_HW_4_weiting_lin import *"
   ]
  },
  {
   "cell_type": "code",
   "execution_count": 3,
   "metadata": {},
   "outputs": [],
   "source": [
    "# We will use AAPL as an example and from 4/23/2019 to 4/23/2021\n",
    "symbol = 'AAPL'\n",
    "as_of_date = date(2021, 4, 19)"
   ]
  },
  {
   "cell_type": "code",
   "execution_count": 4,
   "metadata": {},
   "outputs": [],
   "source": [
    "stock = Stock(symbol)\n",
    "model = DiscountedCashFlowModel(stock, as_of_date)"
   ]
  },
  {
   "cell_type": "code",
   "execution_count": 5,
   "metadata": {},
   "outputs": [
    {
     "name": "stdout",
     "output_type": "stream",
     "text": [
      "Free Cash Flow 73365000000\n",
      "Beta  1.203743\n",
      "WACC  0.075\n",
      "Total debt  113896000000\n",
      "Cash and Short Term investments  90943000000\n",
      "Shares outstanding  16687599569.399765\n"
     ]
    }
   ],
   "source": [
    "# First print out all the important requirement inputs in the DCF model so to make sure the code \n",
    "# works\n",
    "print(\"Free Cash Flow\", stock.get_free_cashflow())\n",
    "print(\"Beta \", stock.get_beta())\n",
    "print(\"WACC \", stock.lookup_wacc_by_beta(stock.get_beta()))\n",
    "print(\"Total debt \", stock.get_total_debt())\n",
    "print(\"Cash and Short Term investments \", stock.get_cash_and_short_term_investments())\n",
    "print(\"Shares outstanding \",stock.get_num_shares_outstanding())"
   ]
  },
  {
   "cell_type": "markdown",
   "metadata": {},
   "source": [
    "### For the EPS (growth rate assumption), we have to manually look it up from FinViz\n"
   ]
  },
  {
   "cell_type": "code",
   "execution_count": 6,
   "metadata": {},
   "outputs": [],
   "source": [
    "eps5y = 0.14\n",
    "short_term_growth_rate = eps5y\n",
    "medium_term_growth_rate = short_term_growth_rate/2\n",
    "long_term_growth_rate = 0.04"
   ]
  },
  {
   "cell_type": "markdown",
   "metadata": {},
   "source": [
    "### Set this assumptions to the model"
   ]
  },
  {
   "cell_type": "code",
   "execution_count": 7,
   "metadata": {},
   "outputs": [],
   "source": [
    "model.set_FCC_growth_rate(short_term_growth_rate, medium_term_growth_rate, long_term_growth_rate)"
   ]
  },
  {
   "cell_type": "code",
   "execution_count": 8,
   "metadata": {},
   "outputs": [
    {
     "name": "stdout",
     "output_type": "stream",
     "text": [
      "102.23653153772638\n"
     ]
    }
   ],
   "source": [
    "### We can call the DCF model to calculate the fair-value\n",
    "model_price = model.calc_fair_value()\n",
    "print(model_price)"
   ]
  },
  {
   "cell_type": "markdown",
   "metadata": {},
   "source": [
    "### Question 1: Calculate the Discounted Cash Flow Model Price for MSFT"
   ]
  },
  {
   "cell_type": "markdown",
   "metadata": {},
   "source": [
    "Type your answer and code here"
   ]
  },
  {
   "cell_type": "code",
   "execution_count": 9,
   "metadata": {},
   "outputs": [
    {
     "name": "stdout",
     "output_type": "stream",
     "text": [
      "219.5491796640252\n"
     ]
    }
   ],
   "source": [
    "# lookup the EPS next 5Y rate for MSFT, set it into the model and then call calc_fair_value method\n",
    "symbol = \"MSFT\"\n",
    "stock = Stock(symbol)\n",
    "model = DiscountedCashFlowModel(stock, as_of_date)\n",
    "\n",
    "eps5y = 0.1673\n",
    "short_term_growth_rate = eps5y\n",
    "medium_term_growth_rate = short_term_growth_rate/2\n",
    "long_term_growth_rate = 0.04\n",
    "\n",
    "model.set_FCC_growth_rate(short_term_growth_rate, medium_term_growth_rate, long_term_growth_rate)\n",
    "model_price = model.calc_fair_value()\n",
    "print(model_price)"
   ]
  }
 ],
 "metadata": {
  "kernelspec": {
   "display_name": "Python 3",
   "language": "python",
   "name": "python3"
  },
  "language_info": {
   "codemirror_mode": {
    "name": "ipython",
    "version": 3
   },
   "file_extension": ".py",
   "mimetype": "text/x-python",
   "name": "python",
   "nbconvert_exporter": "python",
   "pygments_lexer": "ipython3",
   "version": "3.8.5"
  }
 },
 "nbformat": 4,
 "nbformat_minor": 2
}
