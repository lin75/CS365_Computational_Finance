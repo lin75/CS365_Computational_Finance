{
 "cells": [
  {
   "cell_type": "markdown",
   "metadata": {},
   "source": [
    "## CSCI 365/765 HW 2"
   ]
  },
  {
   "cell_type": "markdown",
   "metadata": {},
   "source": [
    "## Due Date: 4/15 before mid-night"
   ]
  },
  {
   "cell_type": "markdown",
   "metadata": {},
   "source": [
    "### Instructor: Alex Pang, Spring 2021\n",
    "### Student Name: Weiting Lin"
   ]
  },
  {
   "cell_type": "code",
   "execution_count": 1,
   "metadata": {},
   "outputs": [],
   "source": [
    "import pandas as pd\n",
    "import numpy as np\n",
    "from datetime import date\n",
    "from math import log, exp, sqrt, pow"
   ]
  },
  {
   "cell_type": "markdown",
   "metadata": {},
   "source": [
    "### Option Calculator"
   ]
  },
  {
   "cell_type": "markdown",
   "metadata": {},
   "source": [
    "### In this homework, we will implement an option class and its corresponding calculation pricer class"
   ]
  },
  {
   "cell_type": "code",
   "execution_count": 2,
   "metadata": {},
   "outputs": [],
   "source": [
    "#from CF_HW_2_first_last import *\n",
    "from CF_HW_2_weiting_lin import *"
   ]
  },
  {
   "cell_type": "code",
   "execution_count": 3,
   "metadata": {},
   "outputs": [],
   "source": [
    "# example\n",
    "pricing_date = date(2021, 1, 1)\n",
    "risk_free_rate = 0.04\n",
    "pricer = OptionPricer(pricing_date, risk_free_rate)"
   ]
  },
  {
   "cell_type": "markdown",
   "metadata": {},
   "source": [
    "### Question 1 (Problem 13.5 of the textbook modified)"
   ]
  },
  {
   "cell_type": "markdown",
   "metadata": {},
   "source": [
    "### A stock price is currently 100. Over each of the next two six-month periods it is expected to go up by 10% (i.e. by a multiple factor of u = 1.1) or down by a multiple factor of d where d = 1/u. The risk-free interest rate is 8% per annum with continuous compounding. What is the value of a one-year European call option with a strike price of 100 using Binomial Model? "
   ]
  },
  {
   "cell_type": "code",
   "execution_count": 4,
   "metadata": {},
   "outputs": [
    {
     "name": "stdout",
     "output_type": "stream",
     "text": [
      "The Call price is 9.228371548345102\n"
     ]
    }
   ],
   "source": [
    "T = 1.0\n",
    "num_of_period = 2\n",
    "dt = T / num_of_period\n",
    "#...\n",
    "\n",
    "# calculate sigma\n",
    "u = 1.1\n",
    "sigma = log(u)/sqrt(dt)\n",
    "S = 100\n",
    "K = 100\n",
    "# mu and symbol does not matter, just assume 10%\n",
    "mu = 0.1\n",
    "symbol = 'problem13.5'\n",
    "r = 0.08\n",
    "pricer = OptionPricer(pricing_date, r)\n",
    "stock = Stock(symbol, S, sigma, mu)\n",
    "call = EuropeanCallOption(stock,T, K)\n",
    "call_price = pricer.calc_binomial_model_price(call, num_of_period)\n",
    "print('The Call price is',call_price)"
   ]
  },
  {
   "cell_type": "markdown",
   "metadata": {},
   "source": [
    "### Question 2. Using the same assumption from Question 1. Calculate the European Put option with the same strike and expiry using Binomial Tree. Calculate also implied put price from the call price using Put-Call parity and the implied call price from the put price. Does Put-Call Parity hold for Binomial trees?"
   ]
  },
  {
   "cell_type": "code",
   "execution_count": 5,
   "metadata": {},
   "outputs": [
    {
     "name": "stdout",
     "output_type": "stream",
     "text": [
      "The Put price is 1.5400061870086883\n",
      "\n",
      "Implied put price from the call price using Put-Call parity is 1.5400061870086859\n",
      "Implied call price from the put price using Put-Call parity is 9.228371548345109\n",
      "\n",
      "Put-Call Parity does hold for Binomial trees\n"
     ]
    }
   ],
   "source": [
    "put = EuropeanPutOption(stock, T, K)\n",
    "put_price = pricer.calc_binomial_model_price(put, num_of_period)\n",
    "print('The Put price is',put_price)\n",
    "print('')\n",
    "print('Implied put price from the call price using Put-Call parity is',pricer.calc_parity_price(call, call_price))\n",
    "print('Implied call price from the put price using Put-Call parity is',pricer.calc_parity_price(put, put_price))\n",
    "print('')\n",
    "print('Put-Call Parity does hold for Binomial trees')"
   ]
  },
  {
   "cell_type": "markdown",
   "metadata": {},
   "source": [
    "### Question 3  (Problem 13.17 of the textbook) "
   ]
  },
  {
   "cell_type": "markdown",
   "metadata": {},
   "source": [
    "### A stock index is currently 1,500. Its volatility is 18%. The risk-free rate is 4% per annum (continuously compounded) for all maturities and the dividend yield on the index is 2.5%. What is the value a 12-month American put option with a strike price of 1,480 given by a two-step binomial tree."
   ]
  },
  {
   "cell_type": "markdown",
   "metadata": {},
   "source": [
    "**Type your answer below**"
   ]
  },
  {
   "cell_type": "code",
   "execution_count": 6,
   "metadata": {},
   "outputs": [
    {
     "name": "stdout",
     "output_type": "stream",
     "text": [
      "The Put price is: 78.4137177695263\n"
     ]
    }
   ],
   "source": [
    "T = 1.0\n",
    "num_of_period = 2\n",
    "dt = T / num_of_period\n",
    "\n",
    "sigma =0.18\n",
    "S = 1500\n",
    "K = 1480\n",
    "# mu and symbol does not matter, just assume 10%\n",
    "mu = 0.1\n",
    "symbol = 'problem13.5'\n",
    "r = 0.04\n",
    "pricer = OptionPricer(pricing_date, r)\n",
    "stock = Stock(symbol, S, sigma, mu,0.025)\n",
    "put = AmericanPutOption(stock,T, K)\n",
    "put_price = pricer.calc_binomial_model_price(put, num_of_period)\n",
    "print(\"The Put price is:\",put_price)"
   ]
  },
  {
   "cell_type": "markdown",
   "metadata": {},
   "source": [
    "### Question 4 (Problem 13.18 of the textbook)"
   ]
  },
  {
   "cell_type": "markdown",
   "metadata": {},
   "source": [
    "### The futures price of a commodity is 90.  Use a three-step Binomial tree to value (a) a nine-month American call option with strike price \\$93 and (b) a nine-month American put option with strike price 93. The volatility is 28% and the risk-free rate (all maturities) is 3% with continuous compounding"
   ]
  },
  {
   "cell_type": "code",
   "execution_count": 7,
   "metadata": {},
   "outputs": [
    {
     "name": "stdout",
     "output_type": "stream",
     "text": [
      "S_T:  481.5318434431165\n",
      "0\n",
      "S_T:  588.1443217233737\n",
      "0\n",
      "S_T:  718.361096749171\n",
      "38.361096749171\n",
      "S_T:  877.4082249244022\n",
      "197.40822492440225\n",
      "0.0\n",
      "19.94632357074229\n",
      "120.67790585467615\n",
      "10.371336007158016\n",
      "72.12447816226948\n",
      "42.377444470933426\n",
      "The Call price is: 42.377444470933426\n",
      "The Put price is: 53.77559852321926\n"
     ]
    }
   ],
   "source": [
    "symbol = 'prob13.18'\n",
    "\n",
    "T = 9/12\n",
    "num_of_period = 3\n",
    "dt = T / num_of_period\n",
    "\n",
    "sigma =0.2\n",
    "S = 650\n",
    "K = 680\n",
    "# mu and symbol does not matter, just assume 10%\n",
    "mu = 0.1\n",
    "r = 0.04\n",
    "pricer = OptionPricer(pricing_date, r)\n",
    "stock = Stock(symbol, S, sigma, mu)\n",
    "\n",
    "call = AmericanCallOption(stock,T, K)\n",
    "call_price = pricer.calc_binomial_model_price(call, num_of_period)\n",
    "print(\"The Call price is:\", call_price)\n",
    "\n",
    "put = AmericanPutOption(stock,T, K)\n",
    "put_price = pricer.calc_binomial_model_price(put, num_of_period)\n",
    "print(\"The Put price is:\", put_price)"
   ]
  },
  {
   "cell_type": "markdown",
   "metadata": {},
   "source": [
    "### Question 5 (Problem 15.4 of the textbook)"
   ]
  },
  {
   "cell_type": "markdown",
   "metadata": {},
   "source": [
    "### Calculate the price of a three-month European put option on a non-dividend-paying stock with a strike price of 50 when the current stock price is 50, the risk-free interest rate is 10% per annum, and the volatility is 30% per annum using Black-Scholes Model. "
   ]
  },
  {
   "cell_type": "code",
   "execution_count": 8,
   "metadata": {},
   "outputs": [
    {
     "name": "stdout",
     "output_type": "stream",
     "text": [
      "The Put price is: 2.3759406675006467\n"
     ]
    }
   ],
   "source": [
    "T = 3/12\n",
    "\n",
    "sigma =0.30\n",
    "S = 50\n",
    "K = 50\n",
    "# mu and symbol does not matter, just assume 10%\n",
    "mu = 0.1\n",
    "r = 0.1\n",
    "\n",
    "pricer = OptionPricer(pricing_date, r)\n",
    "stock = Stock(symbol, S, sigma, mu)\n",
    "\n",
    "put = EuropeanPutOption(stock,T, K)\n",
    "put_price = pricer.calc_black_scholes_price(put)\n",
    "print(\"The Put price is:\", put_price)"
   ]
  },
  {
   "cell_type": "markdown",
   "metadata": {},
   "source": [
    "### Question 6. Calculate the same call and put from Question 4, but assume European style and use Black-Scholes Model. Calculate also the European Call using the same assumptions as the put in Q5"
   ]
  },
  {
   "cell_type": "code",
   "execution_count": 9,
   "metadata": {},
   "outputs": [
    {
     "name": "stdout",
     "output_type": "stream",
     "text": [
      "For Question 4, the Call price is: 8.27247167207019 . And the Put price is: 9.20333673105047\n",
      "\n",
      "For Question 5, the Call price is: 3.610445066084015\n"
     ]
    }
   ],
   "source": [
    "#For Question 4\n",
    "T = 9/12\n",
    "\n",
    "sigma =0.28\n",
    "S = 90\n",
    "K = 93\n",
    "# mu and symbol does not matter, just assume 10%\n",
    "mu = 0.1\n",
    "r = 0.03\n",
    "pricer = OptionPricer(pricing_date, r)\n",
    "stock = Stock(symbol, S, sigma, mu)\n",
    "\n",
    "call = EuropeanCallOption(stock,T, K)\n",
    "call_price = pricer.calc_black_scholes_price(call)\n",
    "\n",
    "put = EuropeanPutOption(stock,T, K)\n",
    "put_price = pricer.calc_black_scholes_price(put)\n",
    "print(\"For Question 4, the Call price is:\", call_price,'. And the Put price is:',put_price)\n",
    "print('')\n",
    "\n",
    "#For Question 5\n",
    "T = 3/12\n",
    "\n",
    "sigma =0.30\n",
    "S = 50\n",
    "K = 50\n",
    "# mu and symbol does not matter, just assume 10%\n",
    "mu = 0.1\n",
    "r = 0.1\n",
    "\n",
    "pricer = OptionPricer(pricing_date, r)\n",
    "stock = Stock(symbol, S, sigma, mu)\n",
    "\n",
    "call = EuropeanCallOption(stock,T, K)\n",
    "call_price = pricer.calc_black_scholes_price(call)\n",
    "print(\"For Question 5, the Call price is:\", call_price)"
   ]
  },
  {
   "cell_type": "markdown",
   "metadata": {},
   "source": [
    "### Question 7 (Problem 19.3 of the textbook)"
   ]
  },
  {
   "cell_type": "markdown",
   "metadata": {},
   "source": [
    "### Calculate the delta of an at-the-money six-month European call option on a non-dividend-paying stock when the risk-free interest rate is 10% per annum with the spot price being 100 and the stock price volatility is 25% per annum. "
   ]
  },
  {
   "cell_type": "markdown",
   "metadata": {},
   "source": [
    "**Type your code here**"
   ]
  },
  {
   "cell_type": "code",
   "execution_count": 10,
   "metadata": {},
   "outputs": [
    {
     "name": "stdout",
     "output_type": "stream",
     "text": [
      "The delta value is 0.6447672796293542\n"
     ]
    }
   ],
   "source": [
    "T = 6/12\n",
    "\n",
    "sigma = 0.25\n",
    "S = 100\n",
    "K = 100\n",
    "\n",
    "mu = 0.1\n",
    "symbol = 'problem19.3'\n",
    "\n",
    "r = 0.1\n",
    "\n",
    "pricer = OptionPricer(pricing_date, r)\n",
    "stock = Stock(symbol, S, sigma, mu)\n",
    "call = EuropeanCallOption(stock, T, K)\n",
    "delta = pricer.calc_delta(call)\n",
    "print('The delta value is',delta)"
   ]
  },
  {
   "cell_type": "markdown",
   "metadata": {},
   "source": [
    "### Question 8. Calculate the gamma, theta, vega and rho of the same European call option in Question 7"
   ]
  },
  {
   "cell_type": "code",
   "execution_count": 11,
   "metadata": {},
   "outputs": [
    {
     "name": "stdout",
     "output_type": "stream",
     "text": [
      "The gamma value is 0.021064902379923867\n",
      "The theta value is -12.072231283969437\n",
      "The vega value is 26.331127974904835\n",
      "The rho value is 27.44724645121614\n"
     ]
    }
   ],
   "source": [
    "gamma = pricer.calc_gamma(call)\n",
    "print('The gamma value is',gamma)\n",
    "\n",
    "theta = pricer.calc_theta(call)\n",
    "print('The theta value is',theta)\n",
    "\n",
    "vega = pricer.calc_vega(call)\n",
    "print('The vega value is',vega)\n",
    "\n",
    "rho = pricer.calc_rho(call)\n",
    "print('The rho value is',rho)"
   ]
  },
  {
   "cell_type": "markdown",
   "metadata": {},
   "source": [
    "### Question 9: (Optional for undergraduate) Plot the graph of Delta, Gamma, Theta, Vega and Rho for the Call Option described in Question 7"
   ]
  },
  {
   "cell_type": "markdown",
   "metadata": {},
   "source": [
    "**Type your code and answer here**"
   ]
  }
 ],
 "metadata": {
  "kernelspec": {
   "display_name": "Python 3",
   "language": "python",
   "name": "python3"
  },
  "language_info": {
   "codemirror_mode": {
    "name": "ipython",
    "version": 3
   },
   "file_extension": ".py",
   "mimetype": "text/x-python",
   "name": "python",
   "nbconvert_exporter": "python",
   "pygments_lexer": "ipython3",
   "version": "3.8.5"
  }
 },
 "nbformat": 4,
 "nbformat_minor": 2
}
