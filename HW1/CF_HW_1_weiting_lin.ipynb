{
 "cells": [
  {
   "cell_type": "markdown",
   "metadata": {},
   "source": [
    "## CSCI 365/765 HW 1"
   ]
  },
  {
   "cell_type": "markdown",
   "metadata": {},
   "source": [
    "## Due Date: 3/18 before mid-night"
   ]
  },
  {
   "cell_type": "markdown",
   "metadata": {},
   "source": [
    "### Instructor: Alex Pang, Spring 2021\n",
    "### Student Name: Weiting Lin"
   ]
  },
  {
   "cell_type": "code",
   "execution_count": 1,
   "metadata": {},
   "outputs": [],
   "source": [
    "import pandas as pd\n",
    "import numpy as np\n",
    "import seaborn as sns\n",
    "import plotly.express as px\n",
    "\n",
    "from datetime import date\n",
    "from dateutil.relativedelta import relativedelta"
   ]
  },
  {
   "cell_type": "markdown",
   "metadata": {},
   "source": [
    "### Bond Calculator"
   ]
  },
  {
   "cell_type": "markdown",
   "metadata": {},
   "source": [
    "### In this homework, we will implement a Bond class and its corresponding calculation engine class"
   ]
  },
  {
   "cell_type": "markdown",
   "metadata": {},
   "source": [
    "**We will assume the pricing date is the same as the issue date of the bond, unless otherwise stated**"
   ]
  },
  {
   "cell_type": "code",
   "execution_count": 2,
   "metadata": {},
   "outputs": [],
   "source": [
    "from CF_HW_1_weiting_lin import *"
   ]
  },
  {
   "cell_type": "code",
   "execution_count": 3,
   "metadata": {},
   "outputs": [],
   "source": [
    "pricing_date = date(2021, 1, 1)\n",
    "issue_date = date(2021, 1, 1)"
   ]
  },
  {
   "cell_type": "code",
   "execution_count": 4,
   "metadata": {},
   "outputs": [],
   "source": [
    "## Create an Bond Calculator for a pricing date\n",
    "engine = BondCalculator(pricing_date)"
   ]
  },
  {
   "cell_type": "code",
   "execution_count": 5,
   "metadata": {},
   "outputs": [],
   "source": [
    "# Repulicate Example 2 and Example from the Bond Math notebook\n",
    "# Create a 10Y annual paid bond with 5% coupon\n",
    "bond2 = Bond(issue_date, term=10, day_count = DayCount.DAYCOUNT_30360,\n",
    "            payment_freq = PaymentFrequency.ANNUAL,\n",
    "            coupon = 0.05)"
   ]
  },
  {
   "cell_type": "code",
   "execution_count": 6,
   "metadata": {},
   "outputs": [
    {
     "name": "stdout",
     "output_type": "stream",
     "text": [
      "Maturity Date:  2031-01-01\n",
      "Payment Dates: [datetime.date(2022, 1, 1), datetime.date(2023, 1, 1), datetime.date(2024, 1, 1), datetime.date(2025, 1, 1), datetime.date(2026, 1, 1), datetime.date(2027, 1, 1), datetime.date(2028, 1, 1), datetime.date(2029, 1, 1), datetime.date(2030, 1, 1), datetime.date(2031, 1, 1)]\n",
      "Coupon Payment: [5.0, 5.0, 5.0, 5.0, 5.0, 5.0, 5.0, 5.0, 5.0, 5.0]\n",
      "Payment time in year: [1, 2, 3, 4, 5, 6, 7, 8, 9, 10]\n"
     ]
    }
   ],
   "source": [
    "# check if its characteristic are right\n",
    "print(\"Maturity Date: \", bond2.maturity_date)\n",
    "print(\"Payment Dates:\", bond2.payment_dates)\n",
    "print(\"Coupon Payment:\", bond2.coupon_payment)\n",
    "print(\"Payment time in year:\", bond2.payment_times_in_year)"
   ]
  },
  {
   "cell_type": "code",
   "execution_count": 7,
   "metadata": {},
   "outputs": [],
   "source": [
    "# Now create a 2 year bond with 8% annual coupon that pay semi-annually\n",
    "bond3 = Bond(issue_date, term = 2, day_count =DayCount.DAYCOUNT_30360,\n",
    "            payment_freq = PaymentFrequency.SEMIANNUAL,\n",
    "            coupon = 0.08)"
   ]
  },
  {
   "cell_type": "markdown",
   "metadata": {},
   "source": [
    "**Question 1: Price Bond2 and Bond3 with 6% yield by calling the calc_clean_price method**"
   ]
  },
  {
   "cell_type": "markdown",
   "metadata": {},
   "source": [
    "**Type your answer here**"
   ]
  },
  {
   "cell_type": "code",
   "execution_count": 8,
   "metadata": {},
   "outputs": [
    {
     "name": "stdout",
     "output_type": "stream",
     "text": [
      "The price of bond2 is 92.64\n",
      "The price of bond3 is 103.72\n"
     ]
    }
   ],
   "source": [
    "# should be 92.64 and 103.72\n",
    "yld = 0.06\n",
    "bond2_px =engine.calc_clean_price(bond2,yld)\n",
    "print(\"The price of bond2 is\",format(bond2_px,'.2f'))\n",
    "bond3_px =engine.calc_clean_price(bond3,yld)\n",
    "print(\"The price of bond3 is\",format(bond3_px,'.2f'))"
   ]
  },
  {
   "cell_type": "markdown",
   "metadata": {},
   "source": [
    "**Question 2: Calculate both bond2 and bond3's macaculay and modified duration at 6% yield**"
   ]
  },
  {
   "cell_type": "markdown",
   "metadata": {},
   "source": [
    "**Type your answer here**"
   ]
  },
  {
   "cell_type": "code",
   "execution_count": 9,
   "metadata": {},
   "outputs": [
    {
     "name": "stdout",
     "output_type": "stream",
     "text": [
      "Maturity Date:  2023-01-01\n",
      "Payment Dates: [datetime.date(2021, 7, 1), datetime.date(2022, 1, 1), datetime.date(2022, 7, 1), datetime.date(2023, 1, 1)]\n",
      "Coupon Payment: [4.0, 4.0, 4.0, 4.0]\n",
      "Payment time in year: [0.5, 1.0, 1.5, 2.0]\n"
     ]
    }
   ],
   "source": [
    "print(\"Maturity Date: \", bond3.maturity_date)\n",
    "print(\"Payment Dates:\", bond3.payment_dates)\n",
    "print(\"Coupon Payment:\", bond3.coupon_payment)\n",
    "print(\"Payment time in year:\", bond3.payment_times_in_year)"
   ]
  },
  {
   "cell_type": "code",
   "execution_count": 10,
   "metadata": {},
   "outputs": [
    {
     "name": "stdout",
     "output_type": "stream",
     "text": [
      "For bond2, The macaculay duration is 8.022534 and modified duration is 7.568428\n",
      "For bond3, The macaculay duration is 1.889836 and modified duration is 1.834792\n"
     ]
    }
   ],
   "source": [
    "print(\"For bond2, The macaculay duration is\",format(engine.calc_macaulay_duration(bond2, yld),'.6f'),\n",
    "      'and modified duration is',format(engine.calc_modified_duration(bond2, yld),'.6f'))\n",
    "print(\"For bond3, The macaculay duration is\",format(engine.calc_macaulay_duration(bond3, yld),'.6f'),\n",
    "      'and modified duration is',format(engine.calc_modified_duration(bond3, yld),'.6f'))"
   ]
  },
  {
   "cell_type": "markdown",
   "metadata": {},
   "source": [
    "**Question 3: Calculate their new price when the yield is moved up by 1 bps=0.01%**"
   ]
  },
  {
   "cell_type": "code",
   "execution_count": 11,
   "metadata": {},
   "outputs": [
    {
     "name": "stdout",
     "output_type": "stream",
     "text": [
      "The new price for bond2 is 92.569833\n",
      "The new price for bond3 is 103.698071\n"
     ]
    }
   ],
   "source": [
    "one_bps=0.01/100\n",
    "new_yld=yld+one_bps\n",
    "new_bond2_px =engine.calc_clean_price(bond2,new_yld)\n",
    "print(\"The new price for bond2 is\",format(new_bond2_px,'.6f'))\n",
    "new_bond3_px =engine.calc_clean_price(bond3,new_yld)\n",
    "print(\"The new price for bond3 is\",format(new_bond3_px,'.6f'))"
   ]
  },
  {
   "cell_type": "markdown",
   "metadata": {},
   "source": [
    "**Question 4: Use their modified duration to estimate the new price change after yield is moved up by 1 bps. Compare with your answer in Question 3**"
   ]
  },
  {
   "cell_type": "code",
   "execution_count": 12,
   "metadata": {
    "scrolled": true
   },
   "outputs": [
    {
     "name": "stdout",
     "output_type": "stream",
     "text": [
      "The new price for bond2 by using bond2 modified duration 92.569799\n",
      "The new price for bond2 by using bond3 modified duration 103.698068\n"
     ]
    }
   ],
   "source": [
    "#Since the yield is moved up by 1 bps, therefore the bond price will be decrease\n",
    "\n",
    "new_bond2 = engine.calc_clean_price(bond2,yld)*(1-engine.calc_modified_duration(bond2, yld)*one_bps)\n",
    "new_bond3 = engine.calc_clean_price(bond3,yld)*(1-engine.calc_modified_duration(bond3, yld)*one_bps)\n",
    "print(\"The new price for bond2 by using bond2 modified duration\",format(new_bond2,'.6f'))\n",
    "print(\"The new price for bond2 by using bond3 modified duration\",format(new_bond3,'.6f'))"
   ]
  },
  {
   "cell_type": "code",
   "execution_count": 13,
   "metadata": {},
   "outputs": [
    {
     "name": "stdout",
     "output_type": "stream",
     "text": [
      "Compare => the new bond price for bond2 and bond3 in Q3 with Q4, the bond price in Q4 is very close to Q3.\n"
     ]
    }
   ],
   "source": [
    "print('Compare => the new bond price for bond2 and bond3 in Q3 with Q4, the bond price in Q4 is very close to Q3.') "
   ]
  },
  {
   "cell_type": "code",
   "execution_count": 14,
   "metadata": {},
   "outputs": [],
   "source": [
    "# Create a 5Y bond with 5% paid semi annually\n",
    "bond4 = Bond(issue_date, term = 5, day_count=DayCount.DAYCOUNT_ACTUAL_360,\n",
    "             payment_freq = PaymentFrequency.SEMIANNUAL,\n",
    "             coupon = 0.05)"
   ]
  },
  {
   "cell_type": "markdown",
   "metadata": {},
   "source": [
    "**Question 5: Calculate the yield to maturity for this bond if it is priced at 103.71 using the calc_yield method**"
   ]
  },
  {
   "cell_type": "code",
   "execution_count": 15,
   "metadata": {},
   "outputs": [
    {
     "name": "stdout",
     "output_type": "stream",
     "text": [
      "4.17\n"
     ]
    }
   ],
   "source": [
    "print(format(engine.calc_yield(bond4,103.71),'.2f'))"
   ]
  },
  {
   "cell_type": "code",
   "execution_count": 16,
   "metadata": {},
   "outputs": [],
   "source": [
    "# answer should be around 4.17"
   ]
  },
  {
   "cell_type": "markdown",
   "metadata": {},
   "source": [
    "**Question 6: Calculate the accrual interest for both bond3 and bond4 if the settle date is March 10, 2021**"
   ]
  },
  {
   "cell_type": "markdown",
   "metadata": {},
   "source": []
  },
  {
   "cell_type": "code",
   "execution_count": 17,
   "metadata": {},
   "outputs": [
    {
     "name": "stdout",
     "output_type": "stream",
     "text": [
      "The accrual interest for bond3 is 1.53% and interest earns 1.53$\n",
      "The accrual interest for bond4 is 0.94% and interest earns 0.94$\n"
     ]
    }
   ],
   "source": [
    "yld3=engine.calc_accrual_interest(bond3,date(2021,3,10))\n",
    "yld4=engine.calc_accrual_interest(bond4,date(2021,3,10))\n",
    "\n",
    "interest_earns3=yld3/100*bond3.principal\n",
    "interest_earns4=yld4/100*bond4.principal\n",
    "\n",
    "print(\"The accrual interest for bond3 is {}% and interest earns {}$\".format(format(yld3,'.2f'),format(interest_earns3,'.2f')))\n",
    "print(\"The accrual interest for bond4 is {}% and interest earns {}$\".format(format(yld4,'.2f'),format(interest_earns4,'.2f')))"
   ]
  },
  {
   "cell_type": "markdown",
   "metadata": {},
   "source": [
    "**Question 7 is optional for undergraduate**"
   ]
  },
  {
   "cell_type": "markdown",
   "metadata": {},
   "source": [
    "**Question 7: Calculate the Convexity of bond3 and bond4**"
   ]
  },
  {
   "cell_type": "markdown",
   "metadata": {},
   "source": [
    "**Type your answer here**"
   ]
  },
  {
   "cell_type": "code",
   "execution_count": null,
   "metadata": {},
   "outputs": [],
   "source": []
  }
 ],
 "metadata": {
  "kernelspec": {
   "display_name": "Python 3",
   "language": "python",
   "name": "python3"
  },
  "language_info": {
   "codemirror_mode": {
    "name": "ipython",
    "version": 3
   },
   "file_extension": ".py",
   "mimetype": "text/x-python",
   "name": "python",
   "nbconvert_exporter": "python",
   "pygments_lexer": "ipython3",
   "version": "3.8.5"
  }
 },
 "nbformat": 4,
 "nbformat_minor": 2
}
